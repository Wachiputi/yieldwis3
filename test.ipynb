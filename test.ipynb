{
 "cells": [
  {
   "cell_type": "code",
   "execution_count": null,
   "metadata": {},
   "outputs": [
    {
     "ename": "",
     "evalue": "",
     "output_type": "error",
     "traceback": [
      "\u001b[1;31mRunning cells with 'Python 3.12.3' requires the ipykernel package.\n",
      "\u001b[1;31mRun the following command to install 'ipykernel' into the Python environment. \n",
      "\u001b[1;31mCommand: 'c:/Users/HANNAH/AppData/Local/Programs/Python/Python312/python.exe -m pip install ipykernel -U --user --force-reinstall'"
     ]
    }
   ],
   "source": [
    "import streamlit as st\n",
    "from pathlib import Path\n",
    "import pandas as pd\n",
    "import datetime\n",
    "from sklearn.preprocessing import StandardScaler\n",
    "from sklearn.model_selection import train_test_split\n",
    "from sklearn.linear_model import LinearRegression\n",
    "from sklearn.metrics import r2_score, mean_squared_error\n",
    "import matplotlib.pyplot as plt\n",
    "import numpy as np\n",
    "from scipy.interpolate import interp1d\n",
    "\n",
    "st.title('Agricultural Commodity Price Projection')\n",
    "st.sidebar.info('Welcome to the Agricultural Commodity Price Projection App. Choose your options below')\n",
    "\n",
    "# Sidebar options\n",
    "option = st.sidebar.selectbox('Select Crop', ['Maize', 'Beans'])\n",
    "start_date = st.sidebar.date_input('Start Date', value=datetime.date.today() - datetime.timedelta(days=365))\n",
    "end_date = st.sidebar.date_input('End Date', datetime.date.today())\n",
    "\n",
    "# Define the path to the CSV file\n",
    "DATA_PATH = Path.cwd() / 'data' / 'wfp_food_prices_mwi.csv'\n",
    "\n",
    "# Read the data from the CSV file\n",
    "data = pd.read_csv(DATA_PATH)\n",
    "\n",
    "# Display the raw data using Streamlit\n",
    "st.subheader(\"Raw WFP Data\")\n",
    "st.write(data)\n",
    "\n",
    "# Remove null values by replacing with bfill\n",
    "ft_data = data.fillna('bfill', inplace=False)\n",
    "ft_data.isnull().sum()\n",
    "\n",
    "# Display the filtered data after filling null values\n",
    "st.subheader(\"Filtered WFP Data (Nulls Filled)\")\n",
    "st.write(ft_data)\n",
    "\n",
    "# Drop the specified columns\n",
    "columns_to_drop = ['usdprice', 'latitude', 'longitude', 'category', 'unit', 'priceflag', 'currency', 'pricetype']\n",
    "ft_data.drop(columns=columns_to_drop, inplace=True)\n",
    "ft_data.drop(index=0, inplace=True)\n",
    "\n",
    "# Display the data after dropping columns\n",
    "st.subheader('Filtered Data After Dropping Columns')\n",
    "st.write(ft_data)\n",
    "\n",
    "# Filter data based on the date, commodity, and markets\n",
    "# Converting the date column to datetime format\n",
    "ft_data['date'] = pd.to_datetime(ft_data['date'])\n",
    "\n",
    "# Defining the date range\n",
    "start_dates = start_date.strftime('%Y-%m-%d')\n",
    "end_dates = end_date.strftime('%Y-%m-%d')\n",
    "\n",
    "# Filtering the data for the date range\n",
    "filtered_df = ft_data[(ft_data['date'] >= start_dates) & (ft_data['date'] <= end_dates)]\n",
    "\n",
    "# Define the commodities and markets to be filtered\n",
    "commodities = ['Maize (new harvest)', 'Beans']\n",
    "markets = ['Nsikawanjala', 'Lizulu', 'Jenda', 'Mitundu', 'Lunzu']\n",
    "\n",
    "# Filter the DataFrame\n",
    "filtered_data = filtered_df[(filtered_df['commodity'].isin(commodities)) & (filtered_df['market'].str.lower().isin([m.lower() for m in markets]))]\n",
    "\n",
    "# Display the fully filtered data\n",
    "st.subheader('Fully Filtered Data')\n",
    "st.write(filtered_data)"
   ]
  }
 ],
 "metadata": {
  "kernelspec": {
   "display_name": "Python 3",
   "language": "python",
   "name": "python3"
  },
  "language_info": {
   "name": "python",
   "version": "3.12.3"
  }
 },
 "nbformat": 4,
 "nbformat_minor": 2
}
